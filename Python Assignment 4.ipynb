{
 "cells": [
  {
   "cell_type": "markdown",
   "metadata": {},
   "source": [
    "1.1 Write a Python Program(with class concepts) to find the area of the triangle using the below\n",
    "formula. <br><br>\n",
    "area = (s*(s-a)*(s-b)*(s-c)) ** 0.5 <br><br>\n",
    "Function to take the length of the sides of triangle from user should be defined in the parent\n",
    "class and function to calculate the area should be defined in subclass."
   ]
  },
  {
   "cell_type": "code",
   "execution_count": 6,
   "metadata": {},
   "outputs": [
    {
     "name": "stdout",
     "output_type": "stream",
     "text": [
      "Enter a, b, c seprated by comma: 3, 4, 5\n"
     ]
    },
    {
     "data": {
      "text/plain": [
       "6.0"
      ]
     },
     "execution_count": 6,
     "metadata": {},
     "output_type": "execute_result"
    }
   ],
   "source": [
    "class traingleMain:\n",
    "    \n",
    "    def set_side(self):\n",
    "        \n",
    "        return input(\"Enter a, b, c seprated by comma: \").split(\",\")\n",
    "    \n",
    "\n",
    "class traingleSub(traingleMain):\n",
    "    \n",
    "    def area(self):\n",
    "        \n",
    "        a, b, c = self.set_side()\n",
    "        \n",
    "        a = float(a)\n",
    "        b = float(b)\n",
    "        c = float(c)\n",
    "        \n",
    "        #print(a, b , c)\n",
    "        s = (1/2) * (a + b + c)\n",
    "        #print(s)\n",
    "        ar = (s * (s - a) * (s - b) * (s - c))**0.5\n",
    "        if ar > 0:\n",
    "            \n",
    "            return ar\n",
    "        \n",
    "        return \"Not a traingle\"\n",
    "    \n",
    "obj = traingleSub()\n",
    "\n",
    "obj.area()"
   ]
  },
  {
   "cell_type": "markdown",
   "metadata": {},
   "source": [
    "1.2 Write a function filter_long_words() that takes a list of words and an integer n and returns\n",
    "the list of words that are longer than n."
   ]
  },
  {
   "cell_type": "code",
   "execution_count": 7,
   "metadata": {},
   "outputs": [
    {
     "name": "stdout",
     "output_type": "stream",
     "text": [
      "Enter words separated by comma: hi, hello, good\n",
      "Enter n size: 2\n"
     ]
    },
    {
     "data": {
      "text/plain": [
       "['hello', 'good']"
      ]
     },
     "execution_count": 7,
     "metadata": {},
     "output_type": "execute_result"
    }
   ],
   "source": [
    "def filter_long_words():\n",
    "    \n",
    "    word_list = input(\"Enter words separated by comma: \").split(\", \")\n",
    "    \n",
    "    n = int(input(\"Enter n size: \"))\n",
    "    \n",
    "    return list(filter(lambda a: len(a) > (n + 1), word_list))\n",
    "    \n",
    "\n",
    "filter_long_words()"
   ]
  },
  {
   "cell_type": "markdown",
   "metadata": {},
   "source": [
    "2.1 Write a Python program using function concept that maps list of words into a list of integers\n",
    "representing the lengths of the corresponding words.<br>\n",
    "<h6>Hint:</h6> If a list [ ab,cde,erty] is passed on to the python function output should come as [2,3,4]\n",
    "Here 2,3 and 4 are the lengths of the words in the list."
   ]
  },
  {
   "cell_type": "code",
   "execution_count": 8,
   "metadata": {},
   "outputs": [
    {
     "name": "stdout",
     "output_type": "stream",
     "text": [
      "Enter words separated by comma: hi, hello, good\n"
     ]
    },
    {
     "data": {
      "text/plain": [
       "[2, 5, 4]"
      ]
     },
     "execution_count": 8,
     "metadata": {},
     "output_type": "execute_result"
    }
   ],
   "source": [
    "def word_len_list():\n",
    "    \n",
    "    word_list = input(\"Enter words separated by comma: \").split(\", \")\n",
    "    \n",
    "    return list(map(lambda a: len(a), word_list))\n",
    "\n",
    "word_len_list()"
   ]
  },
  {
   "cell_type": "markdown",
   "metadata": {},
   "source": [
    "2.2 Write a Python function which takes a character (i.e. a string of length 1) and returns True if\n",
    "it is a vowel, False otherwise."
   ]
  },
  {
   "cell_type": "code",
   "execution_count": 4,
   "metadata": {},
   "outputs": [
    {
     "name": "stdout",
     "output_type": "stream",
     "text": [
      "Enter a letter: l\n"
     ]
    },
    {
     "data": {
      "text/plain": [
       "False"
      ]
     },
     "execution_count": 4,
     "metadata": {},
     "output_type": "execute_result"
    }
   ],
   "source": [
    "def check_vowel():\n",
    "    \n",
    "    vowels = ['a', 'e', 'i', 'o', 'u']\n",
    "    \n",
    "    char = input(\"Enter a letter: \")\n",
    "    \n",
    "    if char in vowels:\n",
    "        \n",
    "        return True\n",
    "    \n",
    "    return False\n",
    "\n",
    "check_vowel()"
   ]
  }
 ],
 "metadata": {
  "kernelspec": {
   "display_name": "Python 3",
   "language": "python",
   "name": "python3"
  },
  "language_info": {
   "codemirror_mode": {
    "name": "ipython",
    "version": 3
   },
   "file_extension": ".py",
   "mimetype": "text/x-python",
   "name": "python",
   "nbconvert_exporter": "python",
   "pygments_lexer": "ipython3",
   "version": "3.7.4"
  }
 },
 "nbformat": 4,
 "nbformat_minor": 2
}
